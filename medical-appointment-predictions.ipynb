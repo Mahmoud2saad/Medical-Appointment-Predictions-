{
 "cells": [
  {
   "cell_type": "code",
   "execution_count": 1,
   "id": "5db25738",
   "metadata": {
    "_cell_guid": "b1076dfc-b9ad-4769-8c92-a6c4dae69d19",
    "_uuid": "8f2839f25d086af736a60e9eeb907d3b93b6e0e5",
    "execution": {
     "iopub.execute_input": "2024-01-22T14:16:55.920488Z",
     "iopub.status.busy": "2024-01-22T14:16:55.920143Z",
     "iopub.status.idle": "2024-01-22T14:16:57.596753Z",
     "shell.execute_reply": "2024-01-22T14:16:57.595931Z"
    },
    "papermill": {
     "duration": 1.689831,
     "end_time": "2024-01-22T14:16:57.599187",
     "exception": false,
     "start_time": "2024-01-22T14:16:55.909356",
     "status": "completed"
    },
    "tags": []
   },
   "outputs": [
    {
     "name": "stderr",
     "output_type": "stream",
     "text": [
      "/opt/conda/lib/python3.10/site-packages/scipy/__init__.py:146: UserWarning: A NumPy version >=1.16.5 and <1.23.0 is required for this version of SciPy (detected version 1.24.3\n",
      "  warnings.warn(f\"A NumPy version >={np_minversion} and <{np_maxversion}\"\n"
     ]
    }
   ],
   "source": [
    "import pandas as pd\n",
    "import numpy as np\n",
    "import matplotlib.pyplot as plt\n",
    "import seaborn as sns\n",
    "%matplotlib inline"
   ]
  },
  {
   "cell_type": "markdown",
   "id": "cb47347c",
   "metadata": {
    "papermill": {
     "duration": 0.009021,
     "end_time": "2024-01-22T14:16:57.617782",
     "exception": false,
     "start_time": "2024-01-22T14:16:57.608761",
     "status": "completed"
    },
    "tags": []
   },
   "source": [
    "# Data Wrangling"
   ]
  },
  {
   "cell_type": "code",
   "execution_count": 2,
   "id": "9565e12e",
   "metadata": {
    "execution": {
     "iopub.execute_input": "2024-01-22T14:16:57.636791Z",
     "iopub.status.busy": "2024-01-22T14:16:57.636373Z",
     "iopub.status.idle": "2024-01-22T14:16:58.023206Z",
     "shell.execute_reply": "2024-01-22T14:16:58.022386Z"
    },
    "papermill": {
     "duration": 0.398984,
     "end_time": "2024-01-22T14:16:58.025562",
     "exception": false,
     "start_time": "2024-01-22T14:16:57.626578",
     "status": "completed"
    },
    "tags": []
   },
   "outputs": [],
   "source": [
    "df=pd.read_csv('/kaggle/input/noshowappointments/KaggleV2-May-2016.csv')"
   ]
  },
  {
   "cell_type": "code",
   "execution_count": 3,
   "id": "65f94835",
   "metadata": {
    "execution": {
     "iopub.execute_input": "2024-01-22T14:16:58.045213Z",
     "iopub.status.busy": "2024-01-22T14:16:58.044911Z",
     "iopub.status.idle": "2024-01-22T14:16:58.069594Z",
     "shell.execute_reply": "2024-01-22T14:16:58.068743Z"
    },
    "papermill": {
     "duration": 0.036678,
     "end_time": "2024-01-22T14:16:58.071603",
     "exception": false,
     "start_time": "2024-01-22T14:16:58.034925",
     "status": "completed"
    },
    "tags": []
   },
   "outputs": [
    {
     "data": {
      "text/html": [
       "<div>\n",
       "<style scoped>\n",
       "    .dataframe tbody tr th:only-of-type {\n",
       "        vertical-align: middle;\n",
       "    }\n",
       "\n",
       "    .dataframe tbody tr th {\n",
       "        vertical-align: top;\n",
       "    }\n",
       "\n",
       "    .dataframe thead th {\n",
       "        text-align: right;\n",
       "    }\n",
       "</style>\n",
       "<table border=\"1\" class=\"dataframe\">\n",
       "  <thead>\n",
       "    <tr style=\"text-align: right;\">\n",
       "      <th></th>\n",
       "      <th>PatientId</th>\n",
       "      <th>AppointmentID</th>\n",
       "      <th>Gender</th>\n",
       "      <th>ScheduledDay</th>\n",
       "      <th>AppointmentDay</th>\n",
       "      <th>Age</th>\n",
       "      <th>Neighbourhood</th>\n",
       "      <th>Scholarship</th>\n",
       "      <th>Hipertension</th>\n",
       "      <th>Diabetes</th>\n",
       "      <th>Alcoholism</th>\n",
       "      <th>Handcap</th>\n",
       "      <th>SMS_received</th>\n",
       "      <th>No-show</th>\n",
       "    </tr>\n",
       "  </thead>\n",
       "  <tbody>\n",
       "    <tr>\n",
       "      <th>0</th>\n",
       "      <td>2.987250e+13</td>\n",
       "      <td>5642903</td>\n",
       "      <td>F</td>\n",
       "      <td>2016-04-29T18:38:08Z</td>\n",
       "      <td>2016-04-29T00:00:00Z</td>\n",
       "      <td>62</td>\n",
       "      <td>JARDIM DA PENHA</td>\n",
       "      <td>0</td>\n",
       "      <td>1</td>\n",
       "      <td>0</td>\n",
       "      <td>0</td>\n",
       "      <td>0</td>\n",
       "      <td>0</td>\n",
       "      <td>No</td>\n",
       "    </tr>\n",
       "    <tr>\n",
       "      <th>1</th>\n",
       "      <td>5.589978e+14</td>\n",
       "      <td>5642503</td>\n",
       "      <td>M</td>\n",
       "      <td>2016-04-29T16:08:27Z</td>\n",
       "      <td>2016-04-29T00:00:00Z</td>\n",
       "      <td>56</td>\n",
       "      <td>JARDIM DA PENHA</td>\n",
       "      <td>0</td>\n",
       "      <td>0</td>\n",
       "      <td>0</td>\n",
       "      <td>0</td>\n",
       "      <td>0</td>\n",
       "      <td>0</td>\n",
       "      <td>No</td>\n",
       "    </tr>\n",
       "    <tr>\n",
       "      <th>2</th>\n",
       "      <td>4.262962e+12</td>\n",
       "      <td>5642549</td>\n",
       "      <td>F</td>\n",
       "      <td>2016-04-29T16:19:04Z</td>\n",
       "      <td>2016-04-29T00:00:00Z</td>\n",
       "      <td>62</td>\n",
       "      <td>MATA DA PRAIA</td>\n",
       "      <td>0</td>\n",
       "      <td>0</td>\n",
       "      <td>0</td>\n",
       "      <td>0</td>\n",
       "      <td>0</td>\n",
       "      <td>0</td>\n",
       "      <td>No</td>\n",
       "    </tr>\n",
       "    <tr>\n",
       "      <th>3</th>\n",
       "      <td>8.679512e+11</td>\n",
       "      <td>5642828</td>\n",
       "      <td>F</td>\n",
       "      <td>2016-04-29T17:29:31Z</td>\n",
       "      <td>2016-04-29T00:00:00Z</td>\n",
       "      <td>8</td>\n",
       "      <td>PONTAL DE CAMBURI</td>\n",
       "      <td>0</td>\n",
       "      <td>0</td>\n",
       "      <td>0</td>\n",
       "      <td>0</td>\n",
       "      <td>0</td>\n",
       "      <td>0</td>\n",
       "      <td>No</td>\n",
       "    </tr>\n",
       "    <tr>\n",
       "      <th>4</th>\n",
       "      <td>8.841186e+12</td>\n",
       "      <td>5642494</td>\n",
       "      <td>F</td>\n",
       "      <td>2016-04-29T16:07:23Z</td>\n",
       "      <td>2016-04-29T00:00:00Z</td>\n",
       "      <td>56</td>\n",
       "      <td>JARDIM DA PENHA</td>\n",
       "      <td>0</td>\n",
       "      <td>1</td>\n",
       "      <td>1</td>\n",
       "      <td>0</td>\n",
       "      <td>0</td>\n",
       "      <td>0</td>\n",
       "      <td>No</td>\n",
       "    </tr>\n",
       "  </tbody>\n",
       "</table>\n",
       "</div>"
      ],
      "text/plain": [
       "      PatientId  AppointmentID Gender          ScheduledDay  \\\n",
       "0  2.987250e+13        5642903      F  2016-04-29T18:38:08Z   \n",
       "1  5.589978e+14        5642503      M  2016-04-29T16:08:27Z   \n",
       "2  4.262962e+12        5642549      F  2016-04-29T16:19:04Z   \n",
       "3  8.679512e+11        5642828      F  2016-04-29T17:29:31Z   \n",
       "4  8.841186e+12        5642494      F  2016-04-29T16:07:23Z   \n",
       "\n",
       "         AppointmentDay  Age      Neighbourhood  Scholarship  Hipertension  \\\n",
       "0  2016-04-29T00:00:00Z   62    JARDIM DA PENHA            0             1   \n",
       "1  2016-04-29T00:00:00Z   56    JARDIM DA PENHA            0             0   \n",
       "2  2016-04-29T00:00:00Z   62      MATA DA PRAIA            0             0   \n",
       "3  2016-04-29T00:00:00Z    8  PONTAL DE CAMBURI            0             0   \n",
       "4  2016-04-29T00:00:00Z   56    JARDIM DA PENHA            0             1   \n",
       "\n",
       "   Diabetes  Alcoholism  Handcap  SMS_received No-show  \n",
       "0         0           0        0             0      No  \n",
       "1         0           0        0             0      No  \n",
       "2         0           0        0             0      No  \n",
       "3         0           0        0             0      No  \n",
       "4         1           0        0             0      No  "
      ]
     },
     "execution_count": 3,
     "metadata": {},
     "output_type": "execute_result"
    }
   ],
   "source": [
    "pd.set_option('display.max_rows',None)\n",
    "df.head()"
   ]
  },
  {
   "cell_type": "code",
   "execution_count": 4,
   "id": "09a201ba",
   "metadata": {
    "execution": {
     "iopub.execute_input": "2024-01-22T14:16:58.091399Z",
     "iopub.status.busy": "2024-01-22T14:16:58.091125Z",
     "iopub.status.idle": "2024-01-22T14:16:58.160103Z",
     "shell.execute_reply": "2024-01-22T14:16:58.159207Z"
    },
    "papermill": {
     "duration": 0.08139,
     "end_time": "2024-01-22T14:16:58.162467",
     "exception": false,
     "start_time": "2024-01-22T14:16:58.081077",
     "status": "completed"
    },
    "tags": []
   },
   "outputs": [
    {
     "name": "stdout",
     "output_type": "stream",
     "text": [
      "<class 'pandas.core.frame.DataFrame'>\n",
      "RangeIndex: 110527 entries, 0 to 110526\n",
      "Data columns (total 14 columns):\n",
      " #   Column          Non-Null Count   Dtype  \n",
      "---  ------          --------------   -----  \n",
      " 0   PatientId       110527 non-null  float64\n",
      " 1   AppointmentID   110527 non-null  int64  \n",
      " 2   Gender          110527 non-null  object \n",
      " 3   ScheduledDay    110527 non-null  object \n",
      " 4   AppointmentDay  110527 non-null  object \n",
      " 5   Age             110527 non-null  int64  \n",
      " 6   Neighbourhood   110527 non-null  object \n",
      " 7   Scholarship     110527 non-null  int64  \n",
      " 8   Hipertension    110527 non-null  int64  \n",
      " 9   Diabetes        110527 non-null  int64  \n",
      " 10  Alcoholism      110527 non-null  int64  \n",
      " 11  Handcap         110527 non-null  int64  \n",
      " 12  SMS_received    110527 non-null  int64  \n",
      " 13  No-show         110527 non-null  object \n",
      "dtypes: float64(1), int64(8), object(5)\n",
      "memory usage: 11.8+ MB\n"
     ]
    }
   ],
   "source": [
    "df.info()"
   ]
  },
  {
   "cell_type": "markdown",
   "id": "6ed9e819",
   "metadata": {
    "papermill": {
     "duration": 0.009215,
     "end_time": "2024-01-22T14:16:58.181195",
     "exception": false,
     "start_time": "2024-01-22T14:16:58.171980",
     "status": "completed"
    },
    "tags": []
   },
   "source": [
    "***The data doesn't contains null values **"
   ]
  },
  {
   "cell_type": "code",
   "execution_count": 5,
   "id": "c0989bbd",
   "metadata": {
    "execution": {
     "iopub.execute_input": "2024-01-22T14:16:58.202024Z",
     "iopub.status.busy": "2024-01-22T14:16:58.201591Z",
     "iopub.status.idle": "2024-01-22T14:16:58.281496Z",
     "shell.execute_reply": "2024-01-22T14:16:58.280561Z"
    },
    "papermill": {
     "duration": 0.092116,
     "end_time": "2024-01-22T14:16:58.283475",
     "exception": false,
     "start_time": "2024-01-22T14:16:58.191359",
     "status": "completed"
    },
    "tags": []
   },
   "outputs": [
    {
     "data": {
      "text/plain": [
       "PatientId          62299\n",
       "AppointmentID     110527\n",
       "Gender                 2\n",
       "ScheduledDay      103549\n",
       "AppointmentDay        27\n",
       "Age                  104\n",
       "Neighbourhood         81\n",
       "Scholarship            2\n",
       "Hipertension           2\n",
       "Diabetes               2\n",
       "Alcoholism             2\n",
       "Handcap                5\n",
       "SMS_received           2\n",
       "No-show                2\n",
       "dtype: int64"
      ]
     },
     "execution_count": 5,
     "metadata": {},
     "output_type": "execute_result"
    }
   ],
   "source": [
    "df.nunique()"
   ]
  },
  {
   "cell_type": "markdown",
   "id": "ec9b9921",
   "metadata": {
    "papermill": {
     "duration": 0.009331,
     "end_time": "2024-01-22T14:16:58.302568",
     "exception": false,
     "start_time": "2024-01-22T14:16:58.293237",
     "status": "completed"
    },
    "tags": []
   },
   "source": [
    "**Data Cleaning**"
   ]
  },
  {
   "cell_type": "code",
   "execution_count": 6,
   "id": "1c82b81e",
   "metadata": {
    "execution": {
     "iopub.execute_input": "2024-01-22T14:16:58.322820Z",
     "iopub.status.busy": "2024-01-22T14:16:58.322278Z",
     "iopub.status.idle": "2024-01-22T14:16:58.331557Z",
     "shell.execute_reply": "2024-01-22T14:16:58.330683Z"
    },
    "papermill": {
     "duration": 0.021686,
     "end_time": "2024-01-22T14:16:58.333535",
     "exception": false,
     "start_time": "2024-01-22T14:16:58.311849",
     "status": "completed"
    },
    "tags": []
   },
   "outputs": [
    {
     "data": {
      "text/plain": [
       "Handcap\n",
       "0    108286\n",
       "1      2042\n",
       "2       183\n",
       "3        13\n",
       "4         3\n",
       "Name: count, dtype: int64"
      ]
     },
     "execution_count": 6,
     "metadata": {},
     "output_type": "execute_result"
    }
   ],
   "source": [
    "df.Handcap.value_counts()"
   ]
  },
  {
   "cell_type": "code",
   "execution_count": 7,
   "id": "88ed9fbf",
   "metadata": {
    "execution": {
     "iopub.execute_input": "2024-01-22T14:16:58.354362Z",
     "iopub.status.busy": "2024-01-22T14:16:58.353742Z",
     "iopub.status.idle": "2024-01-22T14:16:58.364142Z",
     "shell.execute_reply": "2024-01-22T14:16:58.363205Z"
    },
    "papermill": {
     "duration": 0.023168,
     "end_time": "2024-01-22T14:16:58.366238",
     "exception": false,
     "start_time": "2024-01-22T14:16:58.343070",
     "status": "completed"
    },
    "tags": []
   },
   "outputs": [],
   "source": [
    "\n",
    "df['Handcap'].replace(2 ,1 ,inplace=True)\n",
    "df['Handcap'].replace(3 ,1 ,inplace=True)\n",
    "df['Handcap'].replace(4 ,1 ,inplace=True)"
   ]
  },
  {
   "cell_type": "code",
   "execution_count": 8,
   "id": "0170fea4",
   "metadata": {
    "execution": {
     "iopub.execute_input": "2024-01-22T14:16:58.387247Z",
     "iopub.status.busy": "2024-01-22T14:16:58.386955Z",
     "iopub.status.idle": "2024-01-22T14:16:59.164069Z",
     "shell.execute_reply": "2024-01-22T14:16:59.163290Z"
    },
    "papermill": {
     "duration": 0.790229,
     "end_time": "2024-01-22T14:16:59.166480",
     "exception": false,
     "start_time": "2024-01-22T14:16:58.376251",
     "status": "completed"
    },
    "tags": []
   },
   "outputs": [],
   "source": [
    "# Convert ScheduledDay and AppointmentDay to datetime type\n",
    "\n",
    "df.ScheduledDay = pd.to_datetime(df.ScheduledDay)\n",
    "df.AppointmentDay = pd.to_datetime(df.AppointmentDay)"
   ]
  },
  {
   "cell_type": "code",
   "execution_count": 9,
   "id": "7d1d8ae4",
   "metadata": {
    "execution": {
     "iopub.execute_input": "2024-01-22T14:16:59.187317Z",
     "iopub.status.busy": "2024-01-22T14:16:59.187033Z",
     "iopub.status.idle": "2024-01-22T14:16:59.213577Z",
     "shell.execute_reply": "2024-01-22T14:16:59.212632Z"
    },
    "papermill": {
     "duration": 0.039234,
     "end_time": "2024-01-22T14:16:59.215605",
     "exception": false,
     "start_time": "2024-01-22T14:16:59.176371",
     "status": "completed"
    },
    "tags": []
   },
   "outputs": [
    {
     "data": {
      "text/html": [
       "<div>\n",
       "<style scoped>\n",
       "    .dataframe tbody tr th:only-of-type {\n",
       "        vertical-align: middle;\n",
       "    }\n",
       "\n",
       "    .dataframe tbody tr th {\n",
       "        vertical-align: top;\n",
       "    }\n",
       "\n",
       "    .dataframe thead th {\n",
       "        text-align: right;\n",
       "    }\n",
       "</style>\n",
       "<table border=\"1\" class=\"dataframe\">\n",
       "  <thead>\n",
       "    <tr style=\"text-align: right;\">\n",
       "      <th></th>\n",
       "      <th>PatientId</th>\n",
       "      <th>AppointmentID</th>\n",
       "      <th>Gender</th>\n",
       "      <th>ScheduledDay</th>\n",
       "      <th>AppointmentDay</th>\n",
       "      <th>Age</th>\n",
       "      <th>Neighbourhood</th>\n",
       "      <th>Scholarship</th>\n",
       "      <th>Hipertension</th>\n",
       "      <th>Diabetes</th>\n",
       "      <th>Alcoholism</th>\n",
       "      <th>Handcap</th>\n",
       "      <th>SMS_received</th>\n",
       "      <th>No-show</th>\n",
       "    </tr>\n",
       "  </thead>\n",
       "  <tbody>\n",
       "    <tr>\n",
       "      <th>0</th>\n",
       "      <td>2.987250e+13</td>\n",
       "      <td>5642903</td>\n",
       "      <td>F</td>\n",
       "      <td>2016-04-29 18:38:08+00:00</td>\n",
       "      <td>2016-04-29 00:00:00+00:00</td>\n",
       "      <td>62</td>\n",
       "      <td>JARDIM DA PENHA</td>\n",
       "      <td>0</td>\n",
       "      <td>1</td>\n",
       "      <td>0</td>\n",
       "      <td>0</td>\n",
       "      <td>0</td>\n",
       "      <td>0</td>\n",
       "      <td>0</td>\n",
       "    </tr>\n",
       "    <tr>\n",
       "      <th>1</th>\n",
       "      <td>5.589978e+14</td>\n",
       "      <td>5642503</td>\n",
       "      <td>M</td>\n",
       "      <td>2016-04-29 16:08:27+00:00</td>\n",
       "      <td>2016-04-29 00:00:00+00:00</td>\n",
       "      <td>56</td>\n",
       "      <td>JARDIM DA PENHA</td>\n",
       "      <td>0</td>\n",
       "      <td>0</td>\n",
       "      <td>0</td>\n",
       "      <td>0</td>\n",
       "      <td>0</td>\n",
       "      <td>0</td>\n",
       "      <td>0</td>\n",
       "    </tr>\n",
       "    <tr>\n",
       "      <th>2</th>\n",
       "      <td>4.262962e+12</td>\n",
       "      <td>5642549</td>\n",
       "      <td>F</td>\n",
       "      <td>2016-04-29 16:19:04+00:00</td>\n",
       "      <td>2016-04-29 00:00:00+00:00</td>\n",
       "      <td>62</td>\n",
       "      <td>MATA DA PRAIA</td>\n",
       "      <td>0</td>\n",
       "      <td>0</td>\n",
       "      <td>0</td>\n",
       "      <td>0</td>\n",
       "      <td>0</td>\n",
       "      <td>0</td>\n",
       "      <td>0</td>\n",
       "    </tr>\n",
       "    <tr>\n",
       "      <th>3</th>\n",
       "      <td>8.679512e+11</td>\n",
       "      <td>5642828</td>\n",
       "      <td>F</td>\n",
       "      <td>2016-04-29 17:29:31+00:00</td>\n",
       "      <td>2016-04-29 00:00:00+00:00</td>\n",
       "      <td>8</td>\n",
       "      <td>PONTAL DE CAMBURI</td>\n",
       "      <td>0</td>\n",
       "      <td>0</td>\n",
       "      <td>0</td>\n",
       "      <td>0</td>\n",
       "      <td>0</td>\n",
       "      <td>0</td>\n",
       "      <td>0</td>\n",
       "    </tr>\n",
       "    <tr>\n",
       "      <th>4</th>\n",
       "      <td>8.841186e+12</td>\n",
       "      <td>5642494</td>\n",
       "      <td>F</td>\n",
       "      <td>2016-04-29 16:07:23+00:00</td>\n",
       "      <td>2016-04-29 00:00:00+00:00</td>\n",
       "      <td>56</td>\n",
       "      <td>JARDIM DA PENHA</td>\n",
       "      <td>0</td>\n",
       "      <td>1</td>\n",
       "      <td>1</td>\n",
       "      <td>0</td>\n",
       "      <td>0</td>\n",
       "      <td>0</td>\n",
       "      <td>0</td>\n",
       "    </tr>\n",
       "  </tbody>\n",
       "</table>\n",
       "</div>"
      ],
      "text/plain": [
       "      PatientId  AppointmentID Gender              ScheduledDay  \\\n",
       "0  2.987250e+13        5642903      F 2016-04-29 18:38:08+00:00   \n",
       "1  5.589978e+14        5642503      M 2016-04-29 16:08:27+00:00   \n",
       "2  4.262962e+12        5642549      F 2016-04-29 16:19:04+00:00   \n",
       "3  8.679512e+11        5642828      F 2016-04-29 17:29:31+00:00   \n",
       "4  8.841186e+12        5642494      F 2016-04-29 16:07:23+00:00   \n",
       "\n",
       "             AppointmentDay  Age      Neighbourhood  Scholarship  \\\n",
       "0 2016-04-29 00:00:00+00:00   62    JARDIM DA PENHA            0   \n",
       "1 2016-04-29 00:00:00+00:00   56    JARDIM DA PENHA            0   \n",
       "2 2016-04-29 00:00:00+00:00   62      MATA DA PRAIA            0   \n",
       "3 2016-04-29 00:00:00+00:00    8  PONTAL DE CAMBURI            0   \n",
       "4 2016-04-29 00:00:00+00:00   56    JARDIM DA PENHA            0   \n",
       "\n",
       "   Hipertension  Diabetes  Alcoholism  Handcap  SMS_received  No-show  \n",
       "0             1         0           0        0             0        0  \n",
       "1             0         0           0        0             0        0  \n",
       "2             0         0           0        0             0        0  \n",
       "3             0         0           0        0             0        0  \n",
       "4             1         1           0        0             0        0  "
      ]
     },
     "execution_count": 9,
     "metadata": {},
     "output_type": "execute_result"
    }
   ],
   "source": [
    "df['No-show'] = df['No-show'].map(\n",
    "                   {'Yes':1 ,'No':0})\n",
    "df.head(5)"
   ]
  },
  {
   "cell_type": "code",
   "execution_count": 10,
   "id": "38a56ba4",
   "metadata": {
    "execution": {
     "iopub.execute_input": "2024-01-22T14:16:59.237188Z",
     "iopub.status.busy": "2024-01-22T14:16:59.236918Z",
     "iopub.status.idle": "2024-01-22T14:16:59.268009Z",
     "shell.execute_reply": "2024-01-22T14:16:59.266709Z"
    },
    "papermill": {
     "duration": 0.043839,
     "end_time": "2024-01-22T14:16:59.270124",
     "exception": false,
     "start_time": "2024-01-22T14:16:59.226285",
     "status": "completed"
    },
    "tags": []
   },
   "outputs": [
    {
     "name": "stdout",
     "output_type": "stream",
     "text": [
      "<class 'pandas.core.frame.DataFrame'>\n",
      "RangeIndex: 110527 entries, 0 to 110526\n",
      "Data columns (total 14 columns):\n",
      " #   Column          Non-Null Count   Dtype              \n",
      "---  ------          --------------   -----              \n",
      " 0   PatientId       110527 non-null  float64            \n",
      " 1   AppointmentID   110527 non-null  int64              \n",
      " 2   Gender          110527 non-null  object             \n",
      " 3   ScheduledDay    110527 non-null  datetime64[ns, UTC]\n",
      " 4   AppointmentDay  110527 non-null  datetime64[ns, UTC]\n",
      " 5   Age             110527 non-null  int64              \n",
      " 6   Neighbourhood   110527 non-null  object             \n",
      " 7   Scholarship     110527 non-null  int64              \n",
      " 8   Hipertension    110527 non-null  int64              \n",
      " 9   Diabetes        110527 non-null  int64              \n",
      " 10  Alcoholism      110527 non-null  int64              \n",
      " 11  Handcap         110527 non-null  int64              \n",
      " 12  SMS_received    110527 non-null  int64              \n",
      " 13  No-show         110527 non-null  int64              \n",
      "dtypes: datetime64[ns, UTC](2), float64(1), int64(9), object(2)\n",
      "memory usage: 11.8+ MB\n"
     ]
    }
   ],
   "source": [
    "df.info()"
   ]
  },
  {
   "cell_type": "markdown",
   "id": "1a92b7c4",
   "metadata": {
    "papermill": {
     "duration": 0.009609,
     "end_time": "2024-01-22T14:16:59.290184",
     "exception": false,
     "start_time": "2024-01-22T14:16:59.280575",
     "status": "completed"
    },
    "tags": []
   },
   "source": [
    "**Since we have 0 null values and 0 duplicated data**"
   ]
  },
  {
   "cell_type": "code",
   "execution_count": 11,
   "id": "2a06ae0e",
   "metadata": {
    "execution": {
     "iopub.execute_input": "2024-01-22T14:16:59.311155Z",
     "iopub.status.busy": "2024-01-22T14:16:59.310845Z",
     "iopub.status.idle": "2024-01-22T14:16:59.321060Z",
     "shell.execute_reply": "2024-01-22T14:16:59.320052Z"
    },
    "papermill": {
     "duration": 0.022894,
     "end_time": "2024-01-22T14:16:59.322901",
     "exception": false,
     "start_time": "2024-01-22T14:16:59.300007",
     "status": "completed"
    },
    "tags": []
   },
   "outputs": [
    {
     "name": "stdout",
     "output_type": "stream",
     "text": [
      "patient id duplicates: 48228\n",
      "appointment id duplicates: 0\n"
     ]
    }
   ],
   "source": [
    "print('patient id duplicates:',df.PatientId.duplicated().sum())\n",
    "print('appointment id duplicates:',df.AppointmentID.duplicated().sum())"
   ]
  },
  {
   "cell_type": "markdown",
   "id": "8f46ce7c",
   "metadata": {
    "papermill": {
     "duration": 0.009667,
     "end_time": "2024-01-22T14:16:59.342384",
     "exception": false,
     "start_time": "2024-01-22T14:16:59.332717",
     "status": "completed"
    },
    "tags": []
   },
   "source": [
    "* Looks like AppointmentID has no duplicates so we can use it as an index.\n",
    "* PatientID duplicating make sense , it means that the same patient had several appointments."
   ]
  },
  {
   "cell_type": "code",
   "execution_count": 12,
   "id": "74a2ccfc",
   "metadata": {
    "execution": {
     "iopub.execute_input": "2024-01-22T14:16:59.363914Z",
     "iopub.status.busy": "2024-01-22T14:16:59.363184Z",
     "iopub.status.idle": "2024-01-22T14:16:59.379667Z",
     "shell.execute_reply": "2024-01-22T14:16:59.378829Z"
    },
    "papermill": {
     "duration": 0.029234,
     "end_time": "2024-01-22T14:16:59.381515",
     "exception": false,
     "start_time": "2024-01-22T14:16:59.352281",
     "status": "completed"
    },
    "tags": []
   },
   "outputs": [
    {
     "name": "stdout",
     "output_type": "stream",
     "text": [
      "0\n"
     ]
    }
   ],
   "source": [
    "# Check if there is rows with the same only patient id and appointment id\n",
    "\n",
    "print(df.duplicated([\"PatientId\",\"AppointmentID\"]).sum())"
   ]
  },
  {
   "cell_type": "code",
   "execution_count": 13,
   "id": "9fee5da1",
   "metadata": {
    "execution": {
     "iopub.execute_input": "2024-01-22T14:16:59.402963Z",
     "iopub.status.busy": "2024-01-22T14:16:59.402655Z",
     "iopub.status.idle": "2024-01-22T14:16:59.420227Z",
     "shell.execute_reply": "2024-01-22T14:16:59.419060Z"
    },
    "papermill": {
     "duration": 0.030823,
     "end_time": "2024-01-22T14:16:59.422433",
     "exception": false,
     "start_time": "2024-01-22T14:16:59.391610",
     "status": "completed"
    },
    "tags": []
   },
   "outputs": [
    {
     "name": "stdout",
     "output_type": "stream",
     "text": [
      "Number of Patients with unique ID: 62299\n",
      "Number of Appointments: 110527\n"
     ]
    }
   ],
   "source": [
    "print('Number of Patients with unique ID:',len(df.PatientId.unique()))\n",
    "print('Number of Appointments:',df.PatientId.value_counts().sum())"
   ]
  },
  {
   "cell_type": "code",
   "execution_count": 14,
   "id": "0b93201b",
   "metadata": {
    "execution": {
     "iopub.execute_input": "2024-01-22T14:16:59.444226Z",
     "iopub.status.busy": "2024-01-22T14:16:59.443953Z",
     "iopub.status.idle": "2024-01-22T14:16:59.507754Z",
     "shell.execute_reply": "2024-01-22T14:16:59.506864Z"
    },
    "papermill": {
     "duration": 0.077103,
     "end_time": "2024-01-22T14:16:59.510032",
     "exception": false,
     "start_time": "2024-01-22T14:16:59.432929",
     "status": "completed"
    },
    "tags": []
   },
   "outputs": [
    {
     "data": {
      "text/html": [
       "<div>\n",
       "<style scoped>\n",
       "    .dataframe tbody tr th:only-of-type {\n",
       "        vertical-align: middle;\n",
       "    }\n",
       "\n",
       "    .dataframe tbody tr th {\n",
       "        vertical-align: top;\n",
       "    }\n",
       "\n",
       "    .dataframe thead th {\n",
       "        text-align: right;\n",
       "    }\n",
       "</style>\n",
       "<table border=\"1\" class=\"dataframe\">\n",
       "  <thead>\n",
       "    <tr style=\"text-align: right;\">\n",
       "      <th></th>\n",
       "      <th>PatientId</th>\n",
       "      <th>AppointmentID</th>\n",
       "      <th>Age</th>\n",
       "      <th>Scholarship</th>\n",
       "      <th>Hipertension</th>\n",
       "      <th>Diabetes</th>\n",
       "      <th>Alcoholism</th>\n",
       "      <th>Handcap</th>\n",
       "      <th>SMS_received</th>\n",
       "      <th>No-show</th>\n",
       "    </tr>\n",
       "  </thead>\n",
       "  <tbody>\n",
       "    <tr>\n",
       "      <th>count</th>\n",
       "      <td>1.105270e+05</td>\n",
       "      <td>1.105270e+05</td>\n",
       "      <td>110527.000000</td>\n",
       "      <td>110527.000000</td>\n",
       "      <td>110527.000000</td>\n",
       "      <td>110527.000000</td>\n",
       "      <td>110527.000000</td>\n",
       "      <td>110527.000000</td>\n",
       "      <td>110527.000000</td>\n",
       "      <td>110527.000000</td>\n",
       "    </tr>\n",
       "    <tr>\n",
       "      <th>mean</th>\n",
       "      <td>1.474963e+14</td>\n",
       "      <td>5.675305e+06</td>\n",
       "      <td>37.088874</td>\n",
       "      <td>0.098266</td>\n",
       "      <td>0.197246</td>\n",
       "      <td>0.071865</td>\n",
       "      <td>0.030400</td>\n",
       "      <td>0.020276</td>\n",
       "      <td>0.321026</td>\n",
       "      <td>0.201933</td>\n",
       "    </tr>\n",
       "    <tr>\n",
       "      <th>std</th>\n",
       "      <td>2.560949e+14</td>\n",
       "      <td>7.129575e+04</td>\n",
       "      <td>23.110205</td>\n",
       "      <td>0.297675</td>\n",
       "      <td>0.397921</td>\n",
       "      <td>0.258265</td>\n",
       "      <td>0.171686</td>\n",
       "      <td>0.140942</td>\n",
       "      <td>0.466873</td>\n",
       "      <td>0.401444</td>\n",
       "    </tr>\n",
       "    <tr>\n",
       "      <th>min</th>\n",
       "      <td>3.921784e+04</td>\n",
       "      <td>5.030230e+06</td>\n",
       "      <td>-1.000000</td>\n",
       "      <td>0.000000</td>\n",
       "      <td>0.000000</td>\n",
       "      <td>0.000000</td>\n",
       "      <td>0.000000</td>\n",
       "      <td>0.000000</td>\n",
       "      <td>0.000000</td>\n",
       "      <td>0.000000</td>\n",
       "    </tr>\n",
       "    <tr>\n",
       "      <th>25%</th>\n",
       "      <td>4.172614e+12</td>\n",
       "      <td>5.640286e+06</td>\n",
       "      <td>18.000000</td>\n",
       "      <td>0.000000</td>\n",
       "      <td>0.000000</td>\n",
       "      <td>0.000000</td>\n",
       "      <td>0.000000</td>\n",
       "      <td>0.000000</td>\n",
       "      <td>0.000000</td>\n",
       "      <td>0.000000</td>\n",
       "    </tr>\n",
       "    <tr>\n",
       "      <th>50%</th>\n",
       "      <td>3.173184e+13</td>\n",
       "      <td>5.680573e+06</td>\n",
       "      <td>37.000000</td>\n",
       "      <td>0.000000</td>\n",
       "      <td>0.000000</td>\n",
       "      <td>0.000000</td>\n",
       "      <td>0.000000</td>\n",
       "      <td>0.000000</td>\n",
       "      <td>0.000000</td>\n",
       "      <td>0.000000</td>\n",
       "    </tr>\n",
       "    <tr>\n",
       "      <th>75%</th>\n",
       "      <td>9.439172e+13</td>\n",
       "      <td>5.725524e+06</td>\n",
       "      <td>55.000000</td>\n",
       "      <td>0.000000</td>\n",
       "      <td>0.000000</td>\n",
       "      <td>0.000000</td>\n",
       "      <td>0.000000</td>\n",
       "      <td>0.000000</td>\n",
       "      <td>1.000000</td>\n",
       "      <td>0.000000</td>\n",
       "    </tr>\n",
       "    <tr>\n",
       "      <th>max</th>\n",
       "      <td>9.999816e+14</td>\n",
       "      <td>5.790484e+06</td>\n",
       "      <td>115.000000</td>\n",
       "      <td>1.000000</td>\n",
       "      <td>1.000000</td>\n",
       "      <td>1.000000</td>\n",
       "      <td>1.000000</td>\n",
       "      <td>1.000000</td>\n",
       "      <td>1.000000</td>\n",
       "      <td>1.000000</td>\n",
       "    </tr>\n",
       "  </tbody>\n",
       "</table>\n",
       "</div>"
      ],
      "text/plain": [
       "          PatientId  AppointmentID            Age    Scholarship  \\\n",
       "count  1.105270e+05   1.105270e+05  110527.000000  110527.000000   \n",
       "mean   1.474963e+14   5.675305e+06      37.088874       0.098266   \n",
       "std    2.560949e+14   7.129575e+04      23.110205       0.297675   \n",
       "min    3.921784e+04   5.030230e+06      -1.000000       0.000000   \n",
       "25%    4.172614e+12   5.640286e+06      18.000000       0.000000   \n",
       "50%    3.173184e+13   5.680573e+06      37.000000       0.000000   \n",
       "75%    9.439172e+13   5.725524e+06      55.000000       0.000000   \n",
       "max    9.999816e+14   5.790484e+06     115.000000       1.000000   \n",
       "\n",
       "        Hipertension       Diabetes     Alcoholism        Handcap  \\\n",
       "count  110527.000000  110527.000000  110527.000000  110527.000000   \n",
       "mean        0.197246       0.071865       0.030400       0.020276   \n",
       "std         0.397921       0.258265       0.171686       0.140942   \n",
       "min         0.000000       0.000000       0.000000       0.000000   \n",
       "25%         0.000000       0.000000       0.000000       0.000000   \n",
       "50%         0.000000       0.000000       0.000000       0.000000   \n",
       "75%         0.000000       0.000000       0.000000       0.000000   \n",
       "max         1.000000       1.000000       1.000000       1.000000   \n",
       "\n",
       "        SMS_received        No-show  \n",
       "count  110527.000000  110527.000000  \n",
       "mean        0.321026       0.201933  \n",
       "std         0.466873       0.401444  \n",
       "min         0.000000       0.000000  \n",
       "25%         0.000000       0.000000  \n",
       "50%         0.000000       0.000000  \n",
       "75%         1.000000       0.000000  \n",
       "max         1.000000       1.000000  "
      ]
     },
     "execution_count": 14,
     "metadata": {},
     "output_type": "execute_result"
    }
   ],
   "source": [
    "df.describe()"
   ]
  },
  {
   "cell_type": "code",
   "execution_count": 15,
   "id": "7060d369",
   "metadata": {
    "execution": {
     "iopub.execute_input": "2024-01-22T14:16:59.532649Z",
     "iopub.status.busy": "2024-01-22T14:16:59.532353Z",
     "iopub.status.idle": "2024-01-22T14:16:59.558719Z",
     "shell.execute_reply": "2024-01-22T14:16:59.557587Z"
    },
    "papermill": {
     "duration": 0.039944,
     "end_time": "2024-01-22T14:16:59.560778",
     "exception": false,
     "start_time": "2024-01-22T14:16:59.520834",
     "status": "completed"
    },
    "tags": []
   },
   "outputs": [
    {
     "name": "stdout",
     "output_type": "stream",
     "text": [
      "count    110526.000000\n",
      "mean         37.089219\n",
      "std          23.110026\n",
      "min           0.000000\n",
      "25%          18.000000\n",
      "50%          37.000000\n",
      "75%          55.000000\n",
      "max         115.000000\n",
      "Name: Age, dtype: float64\n"
     ]
    }
   ],
   "source": [
    "# Check Age\n",
    "#There is just 1 value = -1 : We will drop it.\n",
    "df.drop(df.query(\"Age == -1\").index,inplace=True)\n",
    "print(df.Age.describe())"
   ]
  },
  {
   "cell_type": "code",
   "execution_count": 16,
   "id": "ca7e1aa5",
   "metadata": {
    "execution": {
     "iopub.execute_input": "2024-01-22T14:16:59.583135Z",
     "iopub.status.busy": "2024-01-22T14:16:59.582823Z",
     "iopub.status.idle": "2024-01-22T14:16:59.600724Z",
     "shell.execute_reply": "2024-01-22T14:16:59.599787Z"
    },
    "papermill": {
     "duration": 0.031281,
     "end_time": "2024-01-22T14:16:59.602823",
     "exception": false,
     "start_time": "2024-01-22T14:16:59.571542",
     "status": "completed"
    },
    "tags": []
   },
   "outputs": [
    {
     "name": "stdout",
     "output_type": "stream",
     "text": [
      "Gender\n",
      "F    65.0\n",
      "M    35.0\n",
      "Name: count, dtype: float64\n"
     ]
    }
   ],
   "source": [
    "# percentage of male and female in the dataset\n",
    "\n",
    "print(round(df.Gender.value_counts()/len(df)*100))"
   ]
  },
  {
   "cell_type": "code",
   "execution_count": 17,
   "id": "21be490a",
   "metadata": {
    "execution": {
     "iopub.execute_input": "2024-01-22T14:16:59.626120Z",
     "iopub.status.busy": "2024-01-22T14:16:59.625817Z",
     "iopub.status.idle": "2024-01-22T14:16:59.922758Z",
     "shell.execute_reply": "2024-01-22T14:16:59.921899Z"
    },
    "papermill": {
     "duration": 0.310318,
     "end_time": "2024-01-22T14:16:59.924770",
     "exception": false,
     "start_time": "2024-01-22T14:16:59.614452",
     "status": "completed"
    },
    "tags": []
   },
   "outputs": [
    {
     "data": {
      "image/png": "[encoded data removed]",
      "text/plain": [
       "<Figure size 640x480 with 1 Axes>"
      ]
     },
     "metadata": {},
     "output_type": "display_data"
    }
   ],
   "source": [
    "import matplotlib.pyplot as plt\n",
    "import seaborn as sns\n",
    "\n",
    "# Assuming df is your DataFrame\n",
    "df['Gender'].value_counts().plot(kind=\"bar\", color=\"b\")\n",
    "sns.set(style=\"whitegrid\")  # Using seaborn for styling\n",
    "plt.title(\"Gender\")\n",
    "plt.xlabel('Male and Female')\n",
    "plt.ylabel('Counts of People')\n",
    "plt.show()\n"
   ]
  },
  {
   "cell_type": "markdown",
   "id": "58630aef",
   "metadata": {
    "papermill": {
     "duration": 0.010981,
     "end_time": "2024-01-22T14:16:59.947589",
     "exception": false,
     "start_time": "2024-01-22T14:16:59.936608",
     "status": "completed"
    },
    "tags": []
   },
   "source": [
    "**(How the age of the patients affects the show-up?)**"
   ]
  },
  {
   "cell_type": "code",
   "execution_count": 18,
   "id": "5afe40f7",
   "metadata": {
    "execution": {
     "iopub.execute_input": "2024-01-22T14:17:00.014563Z",
     "iopub.status.busy": "2024-01-22T14:17:00.014227Z",
     "iopub.status.idle": "2024-01-22T14:17:00.516225Z",
     "shell.execute_reply": "2024-01-22T14:17:00.515288Z"
    },
    "papermill": {
     "duration": 0.516674,
     "end_time": "2024-01-22T14:17:00.518263",
     "exception": false,
     "start_time": "2024-01-22T14:17:00.001589",
     "status": "completed"
    },
    "tags": []
   },
   "outputs": [
    {
     "data": {
      "image/png": "[encoded data removed]",
      "text/plain": [
       "<Figure size 1500x600 with 1 Axes>"
      ]
     },
     "metadata": {},
     "output_type": "display_data"
    }
   ],
   "source": [
    "df.Age.hist(bins=25, color = \"lightsteelblue\",figsize=(15,6)) \n",
    "plt.xlabel(\"Age\") \n",
    "plt.ylabel(\"Count\") \n",
    "plt.title(\"\\nAge Histogram\");"
   ]
  },
  {
   "cell_type": "markdown",
   "id": "e28e5fa5",
   "metadata": {
    "papermill": {
     "duration": 0.011525,
     "end_time": "2024-01-22T14:17:00.541865",
     "exception": false,
     "start_time": "2024-01-22T14:17:00.530340",
     "status": "completed"
    },
    "tags": []
   },
   "source": [
    "* How Gender of the patient affects his/her show-up?"
   ]
  },
  {
   "cell_type": "code",
   "execution_count": 19,
   "id": "f2cf8d72",
   "metadata": {
    "execution": {
     "iopub.execute_input": "2024-01-22T14:17:00.566155Z",
     "iopub.status.busy": "2024-01-22T14:17:00.565840Z",
     "iopub.status.idle": "2024-01-22T14:17:00.587793Z",
     "shell.execute_reply": "2024-01-22T14:17:00.586740Z"
    },
    "papermill": {
     "duration": 0.036695,
     "end_time": "2024-01-22T14:17:00.590006",
     "exception": false,
     "start_time": "2024-01-22T14:17:00.553311",
     "status": "completed"
    },
    "tags": []
   },
   "outputs": [
    {
     "name": "stdout",
     "output_type": "stream",
     "text": [
      "Gender  No-show\n",
      "F       0          57245\n",
      "        1          14594\n",
      "M       0          30962\n",
      "        1           7725\n",
      "Name: count, dtype: int64\n"
     ]
    }
   ],
   "source": [
    "Gender_count = df.groupby(\"Gender\")[\"No-show\"].value_counts()\n",
    "print(Gender_count)"
   ]
  },
  {
   "cell_type": "code",
   "execution_count": 20,
   "id": "ce5754a6",
   "metadata": {
    "execution": {
     "iopub.execute_input": "2024-01-22T14:17:00.615129Z",
     "iopub.status.busy": "2024-01-22T14:17:00.614821Z",
     "iopub.status.idle": "2024-01-22T14:17:00.951519Z",
     "shell.execute_reply": "2024-01-22T14:17:00.950600Z"
    },
    "papermill": {
     "duration": 0.351319,
     "end_time": "2024-01-22T14:17:00.953678",
     "exception": false,
     "start_time": "2024-01-22T14:17:00.602359",
     "status": "completed"
    },
    "tags": []
   },
   "outputs": [
    {
     "data": {
      "text/plain": [
       "<Figure size 1400x600 with 0 Axes>"
      ]
     },
     "metadata": {},
     "output_type": "display_data"
    },
    {
     "data": {
      "image/png": "[encoded data removed]",
      "text/plain": [
       "<Figure size 640x480 with 1 Axes>"
      ]
     },
     "metadata": {},
     "output_type": "display_data"
    }
   ],
   "source": [
    "import seaborn as sns\n",
    "import matplotlib.pyplot as plt\n",
    "\n",
    "def MyHistplot(df, xVar, figsize=(14, 6), stacked=True, normalize=False):\n",
    "    \"\"\"\n",
    "    Plot a bar chart to visualize the percentage of missing appointments across different categories using seaborn.\n",
    "\n",
    "    Parameters:\n",
    "    - df (DataFrame): The input DataFrame containing data.\n",
    "    - xVar (str): The categorical variable for grouping.\n",
    "    - figsize (tuple, optional): Figure size (default is (14, 6)).\n",
    "    - stacked (bool, optional): Whether to plot stacked bars (default is True).\n",
    "    - normalize (bool, optional): Whether to normalize the counts (default is False).\n",
    "\n",
    "    Returns:\n",
    "    - None\n",
    "    \"\"\"\n",
    "    plt.figure(figsize=figsize)\n",
    "\n",
    "    # Calculate the percentage of missing appointments\n",
    "    plot_data = df.groupby(xVar)['No-show'].value_counts(normalize=normalize).mul(int(f'{100 if normalize else 1}')).round(2).unstack()\n",
    "\n",
    "    # Plotting using seaborn\n",
    "    if normalize:\n",
    "        total_percentage = df['No-show'].value_counts(normalize=True).mul(100)[0]\n",
    "        sns.barplot(x=xVar, y='No-show', data=df, hue='No-show', estimator=lambda x: len(x) / len(df) * total_percentage, ci=None, palette=\"muted\", edgecolor='white')\n",
    "    else:\n",
    "        plot_data.plot(kind=\"bar\", stacked=stacked, width=0.7, edgecolor='white', rot=0)\n",
    "\n",
    "    plt.ylabel(\"Missing Appointments\")\n",
    "    plt.title(f\"Percentage of Missing Appointments Across {xVar}\".title(), fontsize=18, weight='bold')\n",
    "\n",
    "    if normalize:\n",
    "        plt.axhline(total_percentage, color='maroon', ls='-.', alpha=0.75, label='Proportion of Attendance (All Patients)')\n",
    "\n",
    "    plt.legend(loc='center left', bbox_to_anchor=(1, 0.5))\n",
    "    plt.show()\n",
    "\n",
    "# Call the function with your actual DataFrame and category variable\n",
    "MyHistplot(df, 'Gender')\n"
   ]
  },
  {
   "cell_type": "markdown",
   "id": "7b70a1de",
   "metadata": {
    "papermill": {
     "duration": 0.015587,
     "end_time": "2024-01-22T14:17:00.982069",
     "exception": false,
     "start_time": "2024-01-22T14:17:00.966482",
     "status": "completed"
    },
    "tags": []
   },
   "source": [
    "**How the age of the patients affects the show-up?**"
   ]
  },
  {
   "cell_type": "code",
   "execution_count": 21,
   "id": "ad4b01b4",
   "metadata": {
    "execution": {
     "iopub.execute_input": "2024-01-22T14:17:01.012670Z",
     "iopub.status.busy": "2024-01-22T14:17:01.012330Z",
     "iopub.status.idle": "2024-01-22T14:17:01.017828Z",
     "shell.execute_reply": "2024-01-22T14:17:01.016923Z"
    },
    "papermill": {
     "duration": 0.022387,
     "end_time": "2024-01-22T14:17:01.019833",
     "exception": false,
     "start_time": "2024-01-22T14:17:00.997446",
     "status": "completed"
    },
    "tags": []
   },
   "outputs": [],
   "source": [
    "# making masks to use later\n",
    "\n",
    "miss = df[\"No-show\"] == 1\n",
    "show = df[\"No-show\"] == 0"
   ]
  },
  {
   "cell_type": "code",
   "execution_count": 22,
   "id": "377cfd2a",
   "metadata": {
    "execution": {
     "iopub.execute_input": "2024-01-22T14:17:01.046272Z",
     "iopub.status.busy": "2024-01-22T14:17:01.045994Z",
     "iopub.status.idle": "2024-01-22T14:17:01.656669Z",
     "shell.execute_reply": "2024-01-22T14:17:01.655763Z"
    },
    "papermill": {
     "duration": 0.626566,
     "end_time": "2024-01-22T14:17:01.658704",
     "exception": false,
     "start_time": "2024-01-22T14:17:01.032138",
     "status": "completed"
    },
    "tags": []
   },
   "outputs": [
    {
     "data": {
      "image/png": "[encoded data removed]",
      "text/plain": [
       "<Figure size 640x480 with 1 Axes>"
      ]
     },
     "metadata": {},
     "output_type": "display_data"
    }
   ],
   "source": [
    "# histogram for ages of patients\n",
    "\n",
    "df[show].Age.hist(alpha=0.5, bins=30,label=\"showed\")\n",
    "df[miss].Age.hist(alpha=0.5, bins=30,label=\"missed\")\n",
    "plt.legend();\n",
    "plt.title(\"Age Histogram\")\n",
    "plt.xlabel(\"Age\")\n",
    "plt.ylabel(\"Count\");"
   ]
  },
  {
   "cell_type": "code",
   "execution_count": 23,
   "id": "9d785ba8",
   "metadata": {
    "execution": {
     "iopub.execute_input": "2024-01-22T14:17:01.686476Z",
     "iopub.status.busy": "2024-01-22T14:17:01.686156Z",
     "iopub.status.idle": "2024-01-22T14:17:03.730358Z",
     "shell.execute_reply": "2024-01-22T14:17:03.729311Z"
    },
    "papermill": {
     "duration": 2.060356,
     "end_time": "2024-01-22T14:17:03.732499",
     "exception": false,
     "start_time": "2024-01-22T14:17:01.672143",
     "status": "completed"
    },
    "tags": []
   },
   "outputs": [
    {
     "data": {
      "text/plain": [
       "<Figure size 3000x800 with 0 Axes>"
      ]
     },
     "metadata": {},
     "output_type": "display_data"
    },
    {
     "data": {
      "image/png": "[encoded data removed]",
      "text/plain": [
       "<Figure size 640x480 with 1 Axes>"
      ]
     },
     "metadata": {},
     "output_type": "display_data"
    },
    {
     "data": {
      "image/png": "[encoded data removed]",
      "text/plain": [
       "<Figure size 3000x800 with 1 Axes>"
      ]
     },
     "metadata": {},
     "output_type": "display_data"
    }
   ],
   "source": [
    "import seaborn as sns\n",
    "import matplotlib.pyplot as plt\n",
    "\n",
    "def MyHistplot(df, xVar, figsize=(14, 6), stacked=True, normalize=False):\n",
    "    \"\"\"\n",
    "    Plot a bar chart and histogram to visualize the percentage of missing appointments and the distribution of ages.\n",
    "\n",
    "    Parameters:\n",
    "    - df (DataFrame): The input DataFrame containing data.\n",
    "    - xVar (str): The categorical variable for grouping.\n",
    "    - figsize (tuple, optional): Figure size (default is (14, 6)).\n",
    "    - stacked (bool, optional): Whether to plot stacked bars (default is True).\n",
    "    - normalize (bool, optional): Whether to normalize the counts (default is False).\n",
    "\n",
    "    Returns:\n",
    "    - None\n",
    "    \"\"\"\n",
    "    # Plot Bar Chart\n",
    "    plt.figure(figsize=figsize)\n",
    "\n",
    "    # Calculate the percentage of missing appointments\n",
    "    plot_data = df.groupby(xVar)['No-show'].value_counts(normalize=normalize).mul(int(f'{100 if normalize else 1}')).round(2).unstack()\n",
    "\n",
    "    # Plotting using seaborn\n",
    "    if normalize:\n",
    "        total_percentage = df['No-show'].value_counts(normalize=True).mul(100)[0]\n",
    "        sns.barplot(x=xVar, y='No-show', data=df, hue='No-show', estimator=lambda x: len(x) / len(df) * total_percentage, ci=None, palette=\"muted\", edgecolor='white')\n",
    "    else:\n",
    "        plot_data.plot(kind=\"bar\", stacked=stacked, width=0.7, edgecolor='white', rot=0)\n",
    "\n",
    "    plt.ylabel(\"Missing Appointments\")\n",
    "    plt.title(f\"Percentage of Missing Appointments Across {xVar}\".title(), fontsize=18, weight='bold')\n",
    "\n",
    "    if normalize:\n",
    "        plt.axhline(total_percentage, color='maroon', ls='-.', alpha=0.75, label='Proportion of Attendance (All Patients)')\n",
    "\n",
    "    plt.legend(loc='center left', bbox_to_anchor=(1, 0.5))\n",
    "    \n",
    "    # Plot Age Histogram\n",
    "    plt.figure(figsize=(30, 8))\n",
    "    sns.histplot(df[df['No-show'] == 'No'].Age, label=\"Showed\", kde=False, color=\"skyblue\", bins=30)\n",
    "    sns.histplot(df[df['No-show'] == 'Yes'].Age, label=\"Missed\", kde=False, color=\"salmon\", bins=30)\n",
    "\n",
    "    plt.legend()\n",
    "    plt.title(\"Age Histogram\")\n",
    "    plt.xlabel(\"Age\")\n",
    "    plt.ylabel(\"Count\")\n",
    "    plt.show()\n",
    "\n",
    "# Call the function with your actual DataFrame and category variable\n",
    "MyHistplot(df, 'Age', figsize=[30, 8])\n"
   ]
  },
  {
   "cell_type": "markdown",
   "id": "8ac9ef08",
   "metadata": {
    "papermill": {
     "duration": 0.014846,
     "end_time": "2024-01-22T14:17:03.762560",
     "exception": false,
     "start_time": "2024-01-22T14:17:03.747714",
     "status": "completed"
    },
    "tags": []
   },
   "source": [
    "**Let's assume you want to predict whether a patient will show up for an appointment based on certain features in your dataset. The features can include variables like 'Age', 'Gender', or any other relevant information. In this example, I'll use a few features for illustration purposes**"
   ]
  },
  {
   "cell_type": "code",
   "execution_count": 24,
   "id": "5c8880ab",
   "metadata": {
    "execution": {
     "iopub.execute_input": "2024-01-22T14:17:03.793293Z",
     "iopub.status.busy": "2024-01-22T14:17:03.792687Z",
     "iopub.status.idle": "2024-01-22T14:17:10.737399Z",
     "shell.execute_reply": "2024-01-22T14:17:10.736235Z"
    },
    "papermill": {
     "duration": 6.962552,
     "end_time": "2024-01-22T14:17:10.739548",
     "exception": false,
     "start_time": "2024-01-22T14:17:03.776996",
     "status": "completed"
    },
    "tags": []
   },
   "outputs": [
    {
     "name": "stdout",
     "output_type": "stream",
     "text": [
      "Accuracy: 0.80\n",
      "\n",
      "Confusion Matrix:\n",
      "[[17669     0]\n",
      " [ 4436     1]]\n",
      "\n",
      "Classification Report:\n",
      "              precision    recall  f1-score   support\n",
      "\n",
      "          No       0.80      1.00      0.89     17669\n",
      "         Yes       1.00      0.00      0.00      4437\n",
      "\n",
      "    accuracy                           0.80     22106\n",
      "   macro avg       0.90      0.50      0.44     22106\n",
      "weighted avg       0.84      0.80      0.71     22106\n",
      "\n"
     ]
    }
   ],
   "source": [
    "# Import necessary libraries\n",
    "import pandas as pd\n",
    "from sklearn.model_selection import train_test_split\n",
    "from sklearn.ensemble import RandomForestClassifier\n",
    "from sklearn.metrics import accuracy_score, classification_report, confusion_matrix\n",
    "\n",
    "# Load your data (replace 'your_data.csv' with the actual file path)\n",
    "df = pd.read_csv('/kaggle/input/noshowappointments/KaggleV2-May-2016.csv')\n",
    "\n",
    "# Assume 'No-show' is the target variable, and 'Age', 'Gender' are features\n",
    "# You should choose relevant features based on your data\n",
    "features = ['Age', 'Gender']\n",
    "\n",
    "# Extract features and target variable\n",
    "X = df[features]\n",
    "y = df['No-show']\n",
    "\n",
    "# Convert categorical variables to numerical using one-hot encoding\n",
    "X = pd.get_dummies(X, columns=['Gender'], drop_first=True)\n",
    "\n",
    "# Split the data into training and testing sets\n",
    "X_train, X_test, y_train, y_test = train_test_split(X, y, test_size=0.2, random_state=42)\n",
    "\n",
    "# Create a RandomForestClassifier model\n",
    "model = RandomForestClassifier(n_estimators=100, random_state=42)\n",
    "\n",
    "# Train the model\n",
    "model.fit(X_train, y_train)\n",
    "\n",
    "# Make predictions on the test set\n",
    "y_pred = model.predict(X_test)\n",
    "\n",
    "# Evaluate the model\n",
    "accuracy = accuracy_score(y_test, y_pred)\n",
    "conf_matrix = confusion_matrix(y_test, y_pred)\n",
    "classification_rep = classification_report(y_test, y_pred)\n",
    "\n",
    "# Print the results\n",
    "print(f'Accuracy: {accuracy:.2f}')\n",
    "print('\\nConfusion Matrix:')\n",
    "print(conf_matrix)\n",
    "print('\\nClassification Report:')\n",
    "print(classification_rep)\n"
   ]
  },
  {
   "cell_type": "markdown",
   "id": "b9fdfcae",
   "metadata": {
    "papermill": {
     "duration": 0.014188,
     "end_time": "2024-01-22T14:17:10.768535",
     "exception": false,
     "start_time": "2024-01-22T14:17:10.754347",
     "status": "completed"
    },
    "tags": []
   },
   "source": [
    "*Certainly! To compare multiple machine learning models, you can use the scikit-learn library's *model_selection module to perform cross-validation and evaluate each model's performance. Below is *an example comparing three classification models: RandomForestClassifier, LogisticRegression, and *DecisionTreeClassifier."
   ]
  },
  {
   "cell_type": "code",
   "execution_count": 25,
   "id": "ab9f6880",
   "metadata": {
    "execution": {
     "iopub.execute_input": "2024-01-22T14:17:10.798581Z",
     "iopub.status.busy": "2024-01-22T14:17:10.798298Z",
     "iopub.status.idle": "2024-01-22T14:17:54.564391Z",
     "shell.execute_reply": "2024-01-22T14:17:54.562525Z"
    },
    "papermill": {
     "duration": 43.79793,
     "end_time": "2024-01-22T14:17:54.580955",
     "exception": false,
     "start_time": "2024-01-22T14:17:10.783025",
     "status": "completed"
    },
    "tags": []
   },
   "outputs": [
    {
     "name": "stdout",
     "output_type": "stream",
     "text": [
      "Random Forest: Mean Accuracy - 0.80, Standard Deviation - 0.00\n",
      "Logistic Regression: Mean Accuracy - 0.80, Standard Deviation - 0.00\n",
      "Decision Tree: Mean Accuracy - 0.80, Standard Deviation - 0.00\n",
      "\n",
      "Best Model (on Test Set): LogisticRegression - Accuracy: 0.80\n"
     ]
    }
   ],
   "source": [
    "import pandas as pd\n",
    "from sklearn.model_selection import train_test_split, cross_val_score\n",
    "from sklearn.ensemble import RandomForestClassifier\n",
    "from sklearn.linear_model import LogisticRegression\n",
    "from sklearn.tree import DecisionTreeClassifier\n",
    "\n",
    "# Load your data (replace 'your_data.csv' with the actual file path)\n",
    "df = pd.read_csv('/kaggle/input/noshowappointments/KaggleV2-May-2016.csv')\n",
    "\n",
    "# Assume 'No-show' is the target variable, and 'Age', 'Gender' are features\n",
    "# You should choose relevant features based on your data\n",
    "features = ['Age', 'Gender']\n",
    "\n",
    "# Extract features and target variable\n",
    "X = df[features]\n",
    "y = df['No-show']\n",
    "\n",
    "# Convert categorical variables to numerical using one-hot encoding\n",
    "X = pd.get_dummies(X, columns=['Gender'], drop_first=True)\n",
    "\n",
    "# Split the data into training and testing sets\n",
    "X_train, X_test, y_train, y_test = train_test_split(X, y, test_size=0.2, random_state=42)\n",
    "\n",
    "# Create instances of different classifiers\n",
    "rf_classifier = RandomForestClassifier(n_estimators=100, random_state=42)\n",
    "lr_classifier = LogisticRegression(random_state=42)\n",
    "dt_classifier = DecisionTreeClassifier(random_state=42)\n",
    "\n",
    "# List of classifiers and their names\n",
    "classifiers = [('Random Forest', rf_classifier),\n",
    "               ('Logistic Regression', lr_classifier),\n",
    "               ('Decision Tree', dt_classifier)]\n",
    "\n",
    "# Compare models using cross-validation\n",
    "for clf_name, clf in classifiers:\n",
    "    cross_val_scores = cross_val_score(clf, X_train, y_train, cv=5, scoring='accuracy')\n",
    "    print(f'{clf_name}: Mean Accuracy - {cross_val_scores.mean():.2f}, Standard Deviation - {cross_val_scores.std():.2f}')\n",
    "\n",
    "# Train and evaluate the best model on the test set\n",
    "best_model = max(classifiers, key=lambda x: cross_val_score(x[1], X_train, y_train, cv=5, scoring='accuracy').mean())[1]\n",
    "best_model.fit(X_train, y_train)\n",
    "test_accuracy = best_model.score(X_test, y_test)\n",
    "print(f'\\nBest Model (on Test Set): {best_model.__class__.__name__} - Accuracy: {test_accuracy:.2f}')\n"
   ]
  },
  {
   "cell_type": "markdown",
   "id": "98fceac1",
   "metadata": {
    "papermill": {
     "duration": 0.015249,
     "end_time": "2024-01-22T14:17:54.611001",
     "exception": false,
     "start_time": "2024-01-22T14:17:54.595752",
     "status": "completed"
    },
    "tags": []
   },
   "source": [
    "**If you liked the notebook and found it useful to learn, give an upvote 👍🏻:)**"
   ]
  }
 ],
 "metadata": {
  "kaggle": {
   "accelerator": "nvidiaTeslaT4",
   "dataSources": [
    {
     "datasetId": 792,
     "sourceId": 3538,
     "sourceType": "datasetVersion"
    }
   ],
   "dockerImageVersionId": 30636,
   "isGpuEnabled": true,
   "isInternetEnabled": true,
   "language": "python",
   "sourceType": "notebook"
  },
  "kernelspec": {
   "display_name": "Python 3",
   "language": "python",
   "name": "python3"
  },
  "language_info": {
   "codemirror_mode": {
    "name": "ipython",
    "version": 3
   },
   "file_extension": ".py",
   "mimetype": "text/x-python",
   "name": "python",
   "nbconvert_exporter": "python",
   "pygments_lexer": "ipython3",
   "version": "3.10.12"
  },
  "papermill": {
   "default_parameters": {},
   "duration": 62.524992,
   "end_time": "2024-01-22T14:17:55.045657",
   "environment_variables": {},
   "exception": null,
   "input_path": "__notebook__.ipynb",
   "output_path": "__notebook__.ipynb",
   "parameters": {},
   "start_time": "2024-01-22T14:16:52.520665",
   "version": "2.4.0"
  }
 },
 "nbformat": 4,
 "nbformat_minor": 5
}
